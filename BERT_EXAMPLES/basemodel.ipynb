{
 "cells": [
  {
   "cell_type": "code",
   "execution_count": null,
   "metadata": {},
   "outputs": [],
   "source": [
    "#sentence embedding"
   ]
  },
  {
   "cell_type": "code",
   "execution_count": 2,
   "metadata": {},
   "outputs": [
    {
     "name": "stdout",
     "output_type": "stream",
     "text": [
      "Defaulting to user installation because normal site-packages is not writeable\n",
      "Collecting tensorflow_hub\n",
      "  Downloading tensorflow_hub-0.16.1-py2.py3-none-any.whl (30 kB)\n",
      "Collecting tf-keras>=2.14.1\n",
      "  Downloading tf_keras-2.17.0-py3-none-any.whl (1.7 MB)\n",
      "\u001b[K     |████████████████████████████████| 1.7 MB 1.8 MB/s eta 0:00:01\n",
      "\u001b[?25hRequirement already satisfied: numpy>=1.12.0 in /Users/prabhatchaturvedi/Library/Python/3.9/lib/python/site-packages (from tensorflow_hub) (1.26.0)\n",
      "Requirement already satisfied: protobuf>=3.19.6 in /Users/prabhatchaturvedi/Library/Python/3.9/lib/python/site-packages (from tensorflow_hub) (3.20.3)\n",
      "Collecting tensorflow<2.18,>=2.17\n",
      "  Downloading tensorflow-2.17.0-cp39-cp39-macosx_12_0_arm64.whl (236.1 MB)\n",
      "\u001b[K     |████████████████████████████████| 236.1 MB 68.1 MB/s eta 0:00:01\n",
      "\u001b[?25hRequirement already satisfied: six>=1.12.0 in /Library/Developer/CommandLineTools/Library/Frameworks/Python3.framework/Versions/3.9/lib/python3.9/site-packages (from tensorflow<2.18,>=2.17->tf-keras>=2.14.1->tensorflow_hub) (1.15.0)\n",
      "Requirement already satisfied: tensorflow-io-gcs-filesystem>=0.23.1 in /Users/prabhatchaturvedi/Library/Python/3.9/lib/python/site-packages (from tensorflow<2.18,>=2.17->tf-keras>=2.14.1->tensorflow_hub) (0.34.0)\n",
      "Requirement already satisfied: google-pasta>=0.1.1 in /Users/prabhatchaturvedi/Library/Python/3.9/lib/python/site-packages (from tensorflow<2.18,>=2.17->tf-keras>=2.14.1->tensorflow_hub) (0.2.0)\n",
      "Collecting flatbuffers>=24.3.25\n",
      "  Downloading flatbuffers-24.3.25-py2.py3-none-any.whl (26 kB)\n",
      "Requirement already satisfied: libclang>=13.0.0 in /Users/prabhatchaturvedi/Library/Python/3.9/lib/python/site-packages (from tensorflow<2.18,>=2.17->tf-keras>=2.14.1->tensorflow_hub) (16.0.6)\n",
      "Collecting h5py>=3.10.0\n",
      "  Downloading h5py-3.11.0-cp39-cp39-macosx_11_0_arm64.whl (3.0 MB)\n",
      "\u001b[K     |████████████████████████████████| 3.0 MB 23.4 MB/s eta 0:00:01\n",
      "\u001b[?25hRequirement already satisfied: astunparse>=1.6.0 in /Users/prabhatchaturvedi/Library/Python/3.9/lib/python/site-packages (from tensorflow<2.18,>=2.17->tf-keras>=2.14.1->tensorflow_hub) (1.6.3)\n",
      "Requirement already satisfied: setuptools in /Library/Developer/CommandLineTools/Library/Frameworks/Python3.framework/Versions/3.9/lib/python3.9/site-packages (from tensorflow<2.18,>=2.17->tf-keras>=2.14.1->tensorflow_hub) (58.0.4)\n",
      "Collecting keras>=3.2.0\n",
      "  Downloading keras-3.4.1-py3-none-any.whl (1.1 MB)\n",
      "\u001b[K     |████████████████████████████████| 1.1 MB 57.6 MB/s eta 0:00:01\n",
      "\u001b[?25hRequirement already satisfied: wrapt>=1.11.0 in /Users/prabhatchaturvedi/Library/Python/3.9/lib/python/site-packages (from tensorflow<2.18,>=2.17->tf-keras>=2.14.1->tensorflow_hub) (1.14.1)\n",
      "Requirement already satisfied: opt-einsum>=2.3.2 in /Users/prabhatchaturvedi/Library/Python/3.9/lib/python/site-packages (from tensorflow<2.18,>=2.17->tf-keras>=2.14.1->tensorflow_hub) (3.3.0)\n",
      "Collecting ml-dtypes<0.5.0,>=0.3.1\n",
      "  Downloading ml_dtypes-0.4.0-cp39-cp39-macosx_10_9_universal2.whl (390 kB)\n",
      "\u001b[K     |████████████████████████████████| 390 kB 22.6 MB/s eta 0:00:01\n",
      "\u001b[?25hRequirement already satisfied: grpcio<2.0,>=1.24.3 in /Users/prabhatchaturvedi/Library/Python/3.9/lib/python/site-packages (from tensorflow<2.18,>=2.17->tf-keras>=2.14.1->tensorflow_hub) (1.59.0)\n",
      "Requirement already satisfied: packaging in /Users/prabhatchaturvedi/Library/Python/3.9/lib/python/site-packages (from tensorflow<2.18,>=2.17->tf-keras>=2.14.1->tensorflow_hub) (23.2)\n",
      "Requirement already satisfied: absl-py>=1.0.0 in /Users/prabhatchaturvedi/Library/Python/3.9/lib/python/site-packages (from tensorflow<2.18,>=2.17->tf-keras>=2.14.1->tensorflow_hub) (2.0.0)\n",
      "Collecting tensorboard<2.18,>=2.17\n",
      "  Downloading tensorboard-2.17.0-py3-none-any.whl (5.5 MB)\n",
      "\u001b[K     |████████████████████████████████| 5.5 MB 52.8 MB/s eta 0:00:01\n",
      "\u001b[?25hRequirement already satisfied: requests<3,>=2.21.0 in /Users/prabhatchaturvedi/Library/Python/3.9/lib/python/site-packages (from tensorflow<2.18,>=2.17->tf-keras>=2.14.1->tensorflow_hub) (2.31.0)\n",
      "Requirement already satisfied: termcolor>=1.1.0 in /Users/prabhatchaturvedi/Library/Python/3.9/lib/python/site-packages (from tensorflow<2.18,>=2.17->tf-keras>=2.14.1->tensorflow_hub) (2.3.0)\n",
      "Requirement already satisfied: gast!=0.5.0,!=0.5.1,!=0.5.2,>=0.2.1 in /Users/prabhatchaturvedi/Library/Python/3.9/lib/python/site-packages (from tensorflow<2.18,>=2.17->tf-keras>=2.14.1->tensorflow_hub) (0.5.4)\n",
      "Requirement already satisfied: typing-extensions>=3.6.6 in /Users/prabhatchaturvedi/Library/Python/3.9/lib/python/site-packages (from tensorflow<2.18,>=2.17->tf-keras>=2.14.1->tensorflow_hub) (4.8.0)\n",
      "Requirement already satisfied: wheel<1.0,>=0.23.0 in /Library/Developer/CommandLineTools/Library/Frameworks/Python3.framework/Versions/3.9/lib/python3.9/site-packages (from astunparse>=1.6.0->tensorflow<2.18,>=2.17->tf-keras>=2.14.1->tensorflow_hub) (0.37.0)\n",
      "Collecting rich\n",
      "  Downloading rich-13.7.1-py3-none-any.whl (240 kB)\n",
      "\u001b[K     |████████████████████████████████| 240 kB 38.1 MB/s eta 0:00:01\n",
      "\u001b[?25hCollecting optree\n",
      "  Downloading optree-0.12.1-cp39-cp39-macosx_11_0_arm64.whl (282 kB)\n",
      "\u001b[K     |████████████████████████████████| 282 kB 45.7 MB/s eta 0:00:01\n",
      "\u001b[?25hCollecting namex\n",
      "  Downloading namex-0.0.8-py3-none-any.whl (5.8 kB)\n",
      "Requirement already satisfied: certifi>=2017.4.17 in /Users/prabhatchaturvedi/Library/Python/3.9/lib/python/site-packages (from requests<3,>=2.21.0->tensorflow<2.18,>=2.17->tf-keras>=2.14.1->tensorflow_hub) (2023.7.22)\n",
      "Requirement already satisfied: charset-normalizer<4,>=2 in /Users/prabhatchaturvedi/Library/Python/3.9/lib/python/site-packages (from requests<3,>=2.21.0->tensorflow<2.18,>=2.17->tf-keras>=2.14.1->tensorflow_hub) (3.3.0)\n",
      "Requirement already satisfied: urllib3<3,>=1.21.1 in /Users/prabhatchaturvedi/Library/Python/3.9/lib/python/site-packages (from requests<3,>=2.21.0->tensorflow<2.18,>=2.17->tf-keras>=2.14.1->tensorflow_hub) (2.0.6)\n",
      "Requirement already satisfied: idna<4,>=2.5 in /Users/prabhatchaturvedi/Library/Python/3.9/lib/python/site-packages (from requests<3,>=2.21.0->tensorflow<2.18,>=2.17->tf-keras>=2.14.1->tensorflow_hub) (3.4)\n",
      "Requirement already satisfied: werkzeug>=1.0.1 in /Users/prabhatchaturvedi/Library/Python/3.9/lib/python/site-packages (from tensorboard<2.18,>=2.17->tensorflow<2.18,>=2.17->tf-keras>=2.14.1->tensorflow_hub) (3.0.0)\n",
      "Requirement already satisfied: tensorboard-data-server<0.8.0,>=0.7.0 in /Users/prabhatchaturvedi/Library/Python/3.9/lib/python/site-packages (from tensorboard<2.18,>=2.17->tensorflow<2.18,>=2.17->tf-keras>=2.14.1->tensorflow_hub) (0.7.1)\n",
      "Requirement already satisfied: markdown>=2.6.8 in /Users/prabhatchaturvedi/Library/Python/3.9/lib/python/site-packages (from tensorboard<2.18,>=2.17->tensorflow<2.18,>=2.17->tf-keras>=2.14.1->tensorflow_hub) (3.5)\n",
      "Requirement already satisfied: importlib-metadata>=4.4 in /Users/prabhatchaturvedi/Library/Python/3.9/lib/python/site-packages (from markdown>=2.6.8->tensorboard<2.18,>=2.17->tensorflow<2.18,>=2.17->tf-keras>=2.14.1->tensorflow_hub) (6.8.0)\n",
      "Requirement already satisfied: zipp>=0.5 in /Users/prabhatchaturvedi/Library/Python/3.9/lib/python/site-packages (from importlib-metadata>=4.4->markdown>=2.6.8->tensorboard<2.18,>=2.17->tensorflow<2.18,>=2.17->tf-keras>=2.14.1->tensorflow_hub) (3.17.0)\n",
      "Requirement already satisfied: MarkupSafe>=2.1.1 in /Users/prabhatchaturvedi/Library/Python/3.9/lib/python/site-packages (from werkzeug>=1.0.1->tensorboard<2.18,>=2.17->tensorflow<2.18,>=2.17->tf-keras>=2.14.1->tensorflow_hub) (2.1.3)\n",
      "Collecting markdown-it-py>=2.2.0\n",
      "  Downloading markdown_it_py-3.0.0-py3-none-any.whl (87 kB)\n",
      "\u001b[K     |████████████████████████████████| 87 kB 20.6 MB/s eta 0:00:01\n",
      "\u001b[?25hRequirement already satisfied: pygments<3.0.0,>=2.13.0 in /Users/prabhatchaturvedi/Library/Python/3.9/lib/python/site-packages (from rich->keras>=3.2.0->tensorflow<2.18,>=2.17->tf-keras>=2.14.1->tensorflow_hub) (2.16.1)\n",
      "Collecting mdurl~=0.1\n",
      "  Downloading mdurl-0.1.2-py3-none-any.whl (10.0 kB)\n",
      "Installing collected packages: mdurl, markdown-it-py, rich, optree, namex, ml-dtypes, h5py, tensorboard, keras, flatbuffers, tensorflow, tf-keras, tensorflow-hub\n",
      "  Attempting uninstall: ml-dtypes\n",
      "    Found existing installation: ml-dtypes 0.2.0\n",
      "    Uninstalling ml-dtypes-0.2.0:\n",
      "      Successfully uninstalled ml-dtypes-0.2.0\n",
      "  Attempting uninstall: h5py\n",
      "    Found existing installation: h5py 3.9.0\n",
      "    Uninstalling h5py-3.9.0:\n",
      "      Successfully uninstalled h5py-3.9.0\n",
      "  Attempting uninstall: tensorboard\n",
      "    Found existing installation: tensorboard 2.14.1\n",
      "    Uninstalling tensorboard-2.14.1:\n",
      "      Successfully uninstalled tensorboard-2.14.1\n",
      "  Attempting uninstall: keras\n",
      "    Found existing installation: keras 2.14.0\n",
      "    Uninstalling keras-2.14.0:\n",
      "      Successfully uninstalled keras-2.14.0\n",
      "  Attempting uninstall: flatbuffers\n",
      "    Found existing installation: flatbuffers 23.5.26\n",
      "    Uninstalling flatbuffers-23.5.26:\n",
      "      Successfully uninstalled flatbuffers-23.5.26\n",
      "  Attempting uninstall: tensorflow\n",
      "    Found existing installation: tensorflow 2.14.0\n",
      "    Uninstalling tensorflow-2.14.0:\n",
      "      Successfully uninstalled tensorflow-2.14.0\n",
      "\u001b[31mERROR: pip's dependency resolver does not currently take into account all the packages that are installed. This behaviour is the source of the following dependency conflicts.\n",
      "tensorflow-macos 2.14.0 requires keras<2.15,>=2.14.0, but you have keras 3.4.1 which is incompatible.\n",
      "tensorflow-macos 2.14.0 requires ml-dtypes==0.2.0, but you have ml-dtypes 0.4.0 which is incompatible.\n",
      "tensorflow-macos 2.14.0 requires tensorboard<2.15,>=2.14, but you have tensorboard 2.17.0 which is incompatible.\u001b[0m\n",
      "Successfully installed flatbuffers-24.3.25 h5py-3.11.0 keras-3.4.1 markdown-it-py-3.0.0 mdurl-0.1.2 ml-dtypes-0.4.0 namex-0.0.8 optree-0.12.1 rich-13.7.1 tensorboard-2.17.0 tensorflow-2.17.0 tensorflow-hub-0.16.1 tf-keras-2.17.0\n",
      "\u001b[33mWARNING: You are using pip version 21.2.4; however, version 24.1.2 is available.\n",
      "You should consider upgrading via the '/Library/Developer/CommandLineTools/usr/bin/python3 -m pip install --upgrade pip' command.\u001b[0m\n",
      "Note: you may need to restart the kernel to use updated packages.\n"
     ]
    }
   ],
   "source": [
    "pip install tensorflow_hub"
   ]
  },
  {
   "cell_type": "code",
   "execution_count": 4,
   "metadata": {},
   "outputs": [
    {
     "name": "stdout",
     "output_type": "stream",
     "text": [
      "Defaulting to user installation because normal site-packages is not writeable\n",
      "Collecting tensorflow_text\n",
      "  Downloading tensorflow_text-2.17.0-cp39-cp39-macosx_11_0_arm64.whl (6.1 MB)\n",
      "\u001b[K     |████████████████████████████████| 6.1 MB 1.4 MB/s eta 0:00:01\n",
      "\u001b[?25hRequirement already satisfied: tensorflow<2.18,>=2.17.0 in /Users/prabhatchaturvedi/Library/Python/3.9/lib/python/site-packages (from tensorflow_text) (2.17.0)\n",
      "Requirement already satisfied: wrapt>=1.11.0 in /Users/prabhatchaturvedi/Library/Python/3.9/lib/python/site-packages (from tensorflow<2.18,>=2.17.0->tensorflow_text) (1.14.1)\n",
      "Requirement already satisfied: setuptools in /Library/Developer/CommandLineTools/Library/Frameworks/Python3.framework/Versions/3.9/lib/python3.9/site-packages (from tensorflow<2.18,>=2.17.0->tensorflow_text) (58.0.4)\n",
      "Requirement already satisfied: tensorflow-io-gcs-filesystem>=0.23.1 in /Users/prabhatchaturvedi/Library/Python/3.9/lib/python/site-packages (from tensorflow<2.18,>=2.17.0->tensorflow_text) (0.34.0)\n",
      "Requirement already satisfied: termcolor>=1.1.0 in /Users/prabhatchaturvedi/Library/Python/3.9/lib/python/site-packages (from tensorflow<2.18,>=2.17.0->tensorflow_text) (2.3.0)\n",
      "Requirement already satisfied: google-pasta>=0.1.1 in /Users/prabhatchaturvedi/Library/Python/3.9/lib/python/site-packages (from tensorflow<2.18,>=2.17.0->tensorflow_text) (0.2.0)\n",
      "Requirement already satisfied: grpcio<2.0,>=1.24.3 in /Users/prabhatchaturvedi/Library/Python/3.9/lib/python/site-packages (from tensorflow<2.18,>=2.17.0->tensorflow_text) (1.59.0)\n",
      "Requirement already satisfied: flatbuffers>=24.3.25 in /Users/prabhatchaturvedi/Library/Python/3.9/lib/python/site-packages (from tensorflow<2.18,>=2.17.0->tensorflow_text) (24.3.25)\n",
      "Requirement already satisfied: requests<3,>=2.21.0 in /Users/prabhatchaturvedi/Library/Python/3.9/lib/python/site-packages (from tensorflow<2.18,>=2.17.0->tensorflow_text) (2.31.0)\n",
      "Requirement already satisfied: tensorboard<2.18,>=2.17 in /Users/prabhatchaturvedi/Library/Python/3.9/lib/python/site-packages (from tensorflow<2.18,>=2.17.0->tensorflow_text) (2.17.0)\n",
      "Requirement already satisfied: absl-py>=1.0.0 in /Users/prabhatchaturvedi/Library/Python/3.9/lib/python/site-packages (from tensorflow<2.18,>=2.17.0->tensorflow_text) (2.0.0)\n",
      "Requirement already satisfied: typing-extensions>=3.6.6 in /Users/prabhatchaturvedi/Library/Python/3.9/lib/python/site-packages (from tensorflow<2.18,>=2.17.0->tensorflow_text) (4.8.0)\n",
      "Requirement already satisfied: astunparse>=1.6.0 in /Users/prabhatchaturvedi/Library/Python/3.9/lib/python/site-packages (from tensorflow<2.18,>=2.17.0->tensorflow_text) (1.6.3)\n",
      "Requirement already satisfied: libclang>=13.0.0 in /Users/prabhatchaturvedi/Library/Python/3.9/lib/python/site-packages (from tensorflow<2.18,>=2.17.0->tensorflow_text) (16.0.6)\n",
      "Requirement already satisfied: numpy<2.0.0,>=1.23.5 in /Users/prabhatchaturvedi/Library/Python/3.9/lib/python/site-packages (from tensorflow<2.18,>=2.17.0->tensorflow_text) (1.26.0)\n",
      "Requirement already satisfied: six>=1.12.0 in /Library/Developer/CommandLineTools/Library/Frameworks/Python3.framework/Versions/3.9/lib/python3.9/site-packages (from tensorflow<2.18,>=2.17.0->tensorflow_text) (1.15.0)\n",
      "Requirement already satisfied: opt-einsum>=2.3.2 in /Users/prabhatchaturvedi/Library/Python/3.9/lib/python/site-packages (from tensorflow<2.18,>=2.17.0->tensorflow_text) (3.3.0)\n",
      "Requirement already satisfied: ml-dtypes<0.5.0,>=0.3.1 in /Users/prabhatchaturvedi/Library/Python/3.9/lib/python/site-packages (from tensorflow<2.18,>=2.17.0->tensorflow_text) (0.4.0)\n",
      "Requirement already satisfied: packaging in /Users/prabhatchaturvedi/Library/Python/3.9/lib/python/site-packages (from tensorflow<2.18,>=2.17.0->tensorflow_text) (23.2)\n",
      "Requirement already satisfied: protobuf!=4.21.0,!=4.21.1,!=4.21.2,!=4.21.3,!=4.21.4,!=4.21.5,<5.0.0dev,>=3.20.3 in /Users/prabhatchaturvedi/Library/Python/3.9/lib/python/site-packages (from tensorflow<2.18,>=2.17.0->tensorflow_text) (3.20.3)\n",
      "Requirement already satisfied: keras>=3.2.0 in /Users/prabhatchaturvedi/Library/Python/3.9/lib/python/site-packages (from tensorflow<2.18,>=2.17.0->tensorflow_text) (3.4.1)\n",
      "Requirement already satisfied: gast!=0.5.0,!=0.5.1,!=0.5.2,>=0.2.1 in /Users/prabhatchaturvedi/Library/Python/3.9/lib/python/site-packages (from tensorflow<2.18,>=2.17.0->tensorflow_text) (0.5.4)\n",
      "Requirement already satisfied: h5py>=3.10.0 in /Users/prabhatchaturvedi/Library/Python/3.9/lib/python/site-packages (from tensorflow<2.18,>=2.17.0->tensorflow_text) (3.11.0)\n",
      "Requirement already satisfied: wheel<1.0,>=0.23.0 in /Library/Developer/CommandLineTools/Library/Frameworks/Python3.framework/Versions/3.9/lib/python3.9/site-packages (from astunparse>=1.6.0->tensorflow<2.18,>=2.17.0->tensorflow_text) (0.37.0)\n",
      "Requirement already satisfied: optree in /Users/prabhatchaturvedi/Library/Python/3.9/lib/python/site-packages (from keras>=3.2.0->tensorflow<2.18,>=2.17.0->tensorflow_text) (0.12.1)\n",
      "Requirement already satisfied: namex in /Users/prabhatchaturvedi/Library/Python/3.9/lib/python/site-packages (from keras>=3.2.0->tensorflow<2.18,>=2.17.0->tensorflow_text) (0.0.8)\n",
      "Requirement already satisfied: rich in /Users/prabhatchaturvedi/Library/Python/3.9/lib/python/site-packages (from keras>=3.2.0->tensorflow<2.18,>=2.17.0->tensorflow_text) (13.7.1)\n",
      "Requirement already satisfied: certifi>=2017.4.17 in /Users/prabhatchaturvedi/Library/Python/3.9/lib/python/site-packages (from requests<3,>=2.21.0->tensorflow<2.18,>=2.17.0->tensorflow_text) (2023.7.22)\n",
      "Requirement already satisfied: urllib3<3,>=1.21.1 in /Users/prabhatchaturvedi/Library/Python/3.9/lib/python/site-packages (from requests<3,>=2.21.0->tensorflow<2.18,>=2.17.0->tensorflow_text) (2.0.6)\n",
      "Requirement already satisfied: idna<4,>=2.5 in /Users/prabhatchaturvedi/Library/Python/3.9/lib/python/site-packages (from requests<3,>=2.21.0->tensorflow<2.18,>=2.17.0->tensorflow_text) (3.4)\n",
      "Requirement already satisfied: charset-normalizer<4,>=2 in /Users/prabhatchaturvedi/Library/Python/3.9/lib/python/site-packages (from requests<3,>=2.21.0->tensorflow<2.18,>=2.17.0->tensorflow_text) (3.3.0)\n",
      "Requirement already satisfied: markdown>=2.6.8 in /Users/prabhatchaturvedi/Library/Python/3.9/lib/python/site-packages (from tensorboard<2.18,>=2.17->tensorflow<2.18,>=2.17.0->tensorflow_text) (3.5)\n",
      "Requirement already satisfied: tensorboard-data-server<0.8.0,>=0.7.0 in /Users/prabhatchaturvedi/Library/Python/3.9/lib/python/site-packages (from tensorboard<2.18,>=2.17->tensorflow<2.18,>=2.17.0->tensorflow_text) (0.7.1)\n",
      "Requirement already satisfied: werkzeug>=1.0.1 in /Users/prabhatchaturvedi/Library/Python/3.9/lib/python/site-packages (from tensorboard<2.18,>=2.17->tensorflow<2.18,>=2.17.0->tensorflow_text) (3.0.0)\n",
      "Requirement already satisfied: importlib-metadata>=4.4 in /Users/prabhatchaturvedi/Library/Python/3.9/lib/python/site-packages (from markdown>=2.6.8->tensorboard<2.18,>=2.17->tensorflow<2.18,>=2.17.0->tensorflow_text) (6.8.0)\n",
      "Requirement already satisfied: zipp>=0.5 in /Users/prabhatchaturvedi/Library/Python/3.9/lib/python/site-packages (from importlib-metadata>=4.4->markdown>=2.6.8->tensorboard<2.18,>=2.17->tensorflow<2.18,>=2.17.0->tensorflow_text) (3.17.0)\n",
      "Requirement already satisfied: MarkupSafe>=2.1.1 in /Users/prabhatchaturvedi/Library/Python/3.9/lib/python/site-packages (from werkzeug>=1.0.1->tensorboard<2.18,>=2.17->tensorflow<2.18,>=2.17.0->tensorflow_text) (2.1.3)\n",
      "Requirement already satisfied: markdown-it-py>=2.2.0 in /Users/prabhatchaturvedi/Library/Python/3.9/lib/python/site-packages (from rich->keras>=3.2.0->tensorflow<2.18,>=2.17.0->tensorflow_text) (3.0.0)\n",
      "Requirement already satisfied: pygments<3.0.0,>=2.13.0 in /Users/prabhatchaturvedi/Library/Python/3.9/lib/python/site-packages (from rich->keras>=3.2.0->tensorflow<2.18,>=2.17.0->tensorflow_text) (2.16.1)\n",
      "Requirement already satisfied: mdurl~=0.1 in /Users/prabhatchaturvedi/Library/Python/3.9/lib/python/site-packages (from markdown-it-py>=2.2.0->rich->keras>=3.2.0->tensorflow<2.18,>=2.17.0->tensorflow_text) (0.1.2)\n",
      "Installing collected packages: tensorflow-text\n",
      "Successfully installed tensorflow-text-2.17.0\n",
      "\u001b[33mWARNING: You are using pip version 21.2.4; however, version 24.1.2 is available.\n",
      "You should consider upgrading via the '/Library/Developer/CommandLineTools/usr/bin/python3 -m pip install --upgrade pip' command.\u001b[0m\n",
      "Note: you may need to restart the kernel to use updated packages.\n"
     ]
    }
   ],
   "source": [
    "pip install tensorflow_text"
   ]
  },
  {
   "cell_type": "code",
   "execution_count": 5,
   "metadata": {},
   "outputs": [],
   "source": [
    "import tensorflow_hub as hub\n",
    "import tensorflow_text as text"
   ]
  },
  {
   "cell_type": "code",
   "execution_count": 6,
   "metadata": {},
   "outputs": [],
   "source": [
    "preprocess_url = \"https://tfhub.dev/tensorflow/bert_en_uncased_preprocess/3\" #it preprocesses the text\n",
    "encoder_url = \"https://tfhub.dev/tensorflow/bert_en_uncased_L-12_H-768_A-12/4\""
   ]
  },
  {
   "cell_type": "code",
   "execution_count": 8,
   "metadata": {},
   "outputs": [],
   "source": [
    "bert_preprocess_model=hub.KerasLayer(preprocess_url)"
   ]
  },
  {
   "cell_type": "code",
   "execution_count": 9,
   "metadata": {},
   "outputs": [
    {
     "data": {
      "text/plain": [
       "dict_keys(['input_mask', 'input_type_ids', 'input_word_ids'])"
      ]
     },
     "execution_count": 9,
     "metadata": {},
     "output_type": "execute_result"
    }
   ],
   "source": [
    "#suppose i am building a movie classification\n",
    "text_test=[\"nice movie indeed\",'I love python programming']\n",
    "text_preprocessed= bert_preprocess_model(text_test)\n",
    "text_preprocessed.keys()"
   ]
  },
  {
   "cell_type": "code",
   "execution_count": 10,
   "metadata": {},
   "outputs": [
    {
     "data": {
      "text/plain": [
       "<tf.Tensor: shape=(2, 128), dtype=int32, numpy=\n",
       "array([[1, 1, 1, 1, 1, 0, 0, 0, 0, 0, 0, 0, 0, 0, 0, 0, 0, 0, 0, 0, 0, 0,\n",
       "        0, 0, 0, 0, 0, 0, 0, 0, 0, 0, 0, 0, 0, 0, 0, 0, 0, 0, 0, 0, 0, 0,\n",
       "        0, 0, 0, 0, 0, 0, 0, 0, 0, 0, 0, 0, 0, 0, 0, 0, 0, 0, 0, 0, 0, 0,\n",
       "        0, 0, 0, 0, 0, 0, 0, 0, 0, 0, 0, 0, 0, 0, 0, 0, 0, 0, 0, 0, 0, 0,\n",
       "        0, 0, 0, 0, 0, 0, 0, 0, 0, 0, 0, 0, 0, 0, 0, 0, 0, 0, 0, 0, 0, 0,\n",
       "        0, 0, 0, 0, 0, 0, 0, 0, 0, 0, 0, 0, 0, 0, 0, 0, 0, 0],\n",
       "       [1, 1, 1, 1, 1, 1, 0, 0, 0, 0, 0, 0, 0, 0, 0, 0, 0, 0, 0, 0, 0, 0,\n",
       "        0, 0, 0, 0, 0, 0, 0, 0, 0, 0, 0, 0, 0, 0, 0, 0, 0, 0, 0, 0, 0, 0,\n",
       "        0, 0, 0, 0, 0, 0, 0, 0, 0, 0, 0, 0, 0, 0, 0, 0, 0, 0, 0, 0, 0, 0,\n",
       "        0, 0, 0, 0, 0, 0, 0, 0, 0, 0, 0, 0, 0, 0, 0, 0, 0, 0, 0, 0, 0, 0,\n",
       "        0, 0, 0, 0, 0, 0, 0, 0, 0, 0, 0, 0, 0, 0, 0, 0, 0, 0, 0, 0, 0, 0,\n",
       "        0, 0, 0, 0, 0, 0, 0, 0, 0, 0, 0, 0, 0, 0, 0, 0, 0, 0]],\n",
       "      dtype=int32)>"
      ]
     },
     "execution_count": 10,
     "metadata": {},
     "output_type": "execute_result"
    }
   ],
   "source": [
    "text_preprocessed['input_mask'] #CLS nice movie indeed SEP"
   ]
  },
  {
   "cell_type": "code",
   "execution_count": 14,
   "metadata": {},
   "outputs": [
    {
     "data": {
      "text/plain": [
       "dict_keys(['default', 'encoder_outputs', 'pooled_output', 'sequence_output'])"
      ]
     },
     "execution_count": 14,
     "metadata": {},
     "output_type": "execute_result"
    }
   ],
   "source": [
    "bert_models=hub.KerasLayer(encoder_url)\n",
    "bert_results= bert_models(text_preprocessed)\n",
    "bert_results.keys()"
   ]
  },
  {
   "cell_type": "code",
   "execution_count": 15,
   "metadata": {},
   "outputs": [
    {
     "data": {
      "text/plain": [
       "<tf.Tensor: shape=(2, 768), dtype=float32, numpy=\n",
       "array([[-0.7917738 , -0.21411915,  0.49769527, ...,  0.2446523 ,\n",
       "        -0.47334468,  0.8175867 ],\n",
       "       [-0.917123  , -0.47935164, -0.7865694 , ..., -0.617517  ,\n",
       "        -0.71026844,  0.9218429 ]], dtype=float32)>"
      ]
     },
     "execution_count": 15,
     "metadata": {},
     "output_type": "execute_result"
    }
   ],
   "source": [
    "bert_results['pooled_output']"
   ]
  },
  {
   "cell_type": "code",
   "execution_count": 16,
   "metadata": {},
   "outputs": [
    {
     "data": {
      "text/plain": [
       "<tf.Tensor: shape=(2, 128, 768), dtype=float32, numpy=\n",
       "array([[[ 0.07292045,  0.08567807,  0.14476861, ..., -0.09677105,\n",
       "          0.0872214 ,  0.07711077],\n",
       "        [ 0.17839377, -0.19006099,  0.5034939 , ..., -0.05869853,\n",
       "          0.3271714 , -0.15578558],\n",
       "        [ 0.18701519, -0.43388748, -0.48875126, ..., -0.15502785,\n",
       "          0.00145189, -0.24470949],\n",
       "        ...,\n",
       "        [ 0.12083046,  0.12884232,  0.46453544, ...,  0.07375513,\n",
       "          0.17441958,  0.1652209 ],\n",
       "        [ 0.07967914, -0.0119064 ,  0.5022541 , ...,  0.13777715,\n",
       "          0.21002248,  0.00624602],\n",
       "        [-0.07212668, -0.28303444,  0.59033406, ...,  0.47551912,\n",
       "          0.16668507, -0.08920383]],\n",
       "\n",
       "       [[-0.07900566,  0.36335117, -0.21101572, ..., -0.17183729,\n",
       "          0.16299763,  0.67242676],\n",
       "        [ 0.27883598,  0.4371629 , -0.35764766, ..., -0.04463641,\n",
       "          0.3831525 ,  0.5887988 ],\n",
       "        [ 1.2037673 ,  1.0727023 ,  0.48408777, ...,  0.24921033,\n",
       "          0.4073094 ,  0.4048179 ],\n",
       "        ...,\n",
       "        [ 0.08630019,  0.19353852,  0.47540084, ...,  0.18880202,\n",
       "         -0.06474087,  0.31318572],\n",
       "        [ 0.1588704 ,  0.28572682,  0.37340787, ...,  0.09309146,\n",
       "         -0.04969538,  0.38761115],\n",
       "        [-0.08079879, -0.0957283 ,  0.26809797, ...,  0.1397965 ,\n",
       "         -0.06315839,  0.27288356]]], dtype=float32)>"
      ]
     },
     "execution_count": 16,
     "metadata": {},
     "output_type": "execute_result"
    }
   ],
   "source": [
    "bert_results['sequence_output']"
   ]
  },
  {
   "cell_type": "code",
   "execution_count": 17,
   "metadata": {},
   "outputs": [
    {
     "data": {
      "text/plain": [
       "<tf.Tensor: shape=(2, 128, 768), dtype=bool, numpy=\n",
       "array([[[ True,  True,  True, ...,  True,  True,  True],\n",
       "        [ True,  True,  True, ...,  True,  True,  True],\n",
       "        [ True,  True,  True, ...,  True,  True,  True],\n",
       "        ...,\n",
       "        [ True,  True,  True, ...,  True,  True,  True],\n",
       "        [ True,  True,  True, ...,  True,  True,  True],\n",
       "        [ True,  True,  True, ...,  True,  True,  True]],\n",
       "\n",
       "       [[ True,  True,  True, ...,  True,  True,  True],\n",
       "        [ True,  True,  True, ...,  True,  True,  True],\n",
       "        [ True,  True,  True, ...,  True,  True,  True],\n",
       "        ...,\n",
       "        [ True,  True,  True, ...,  True,  True,  True],\n",
       "        [ True,  True,  True, ...,  True,  True,  True],\n",
       "        [ True,  True,  True, ...,  True,  True,  True]]])>"
      ]
     },
     "execution_count": 17,
     "metadata": {},
     "output_type": "execute_result"
    }
   ],
   "source": [
    "bert_results['encoder_outputs'][-1]== bert_results['sequence_output']"
   ]
  },
  {
   "cell_type": "code",
   "execution_count": null,
   "metadata": {},
   "outputs": [],
   "source": []
  }
 ],
 "metadata": {
  "kernelspec": {
   "display_name": "Python 3",
   "language": "python",
   "name": "python3"
  },
  "language_info": {
   "codemirror_mode": {
    "name": "ipython",
    "version": 3
   },
   "file_extension": ".py",
   "mimetype": "text/x-python",
   "name": "python",
   "nbconvert_exporter": "python",
   "pygments_lexer": "ipython3",
   "version": "3.9.6"
  }
 },
 "nbformat": 4,
 "nbformat_minor": 2
}
